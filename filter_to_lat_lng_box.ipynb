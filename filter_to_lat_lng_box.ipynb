{
 "cells": [
  {
   "cell_type": "code",
   "execution_count": 1,
   "metadata": {},
   "outputs": [],
   "source": [
    "MIN_LONGITUDE = -125\n",
    "MAX_LONGITUDE = -120\n",
    "MIN_LATITUDE = 36\n",
    "MAX_LATITUDE = 40"
   ]
  },
  {
   "cell_type": "code",
   "execution_count": 2,
   "metadata": {},
   "outputs": [
    {
     "name": "stdout",
     "output_type": "stream",
     "text": [
      "Filter SF crime data to last 90 days.ipynb\r\n",
      "Untitled.ipynb\r\n",
      "crime_oakland_90d_reprojected.gpkg\r\n",
      "crime_oakland_90d_reprojected.gpkg-shm\r\n",
      "crime_oakland_90d_reprojected.gpkg-wal\r\n",
      "crime_oakland_last_90.csv\r\n",
      "crime_oakland_last_90_raw.csv\r\n",
      "crime_sf_last_1.csv\r\n",
      "crime_sf_last_90.csv\r\n",
      "geocoder.ipynb\r\n",
      "\u001b[34mqgis_layers\u001b[m\u001b[m\r\n"
     ]
    }
   ],
   "source": [
    "!ls"
   ]
  },
  {
   "cell_type": "code",
   "execution_count": 4,
   "metadata": {},
   "outputs": [],
   "source": [
    "import pandas\n",
    "data = pandas.read_csv(\"crime_oakland_last_90.csv\")"
   ]
  },
  {
   "cell_type": "code",
   "execution_count": 5,
   "metadata": {},
   "outputs": [
    {
     "data": {
      "text/html": [
       "<div>\n",
       "<style scoped>\n",
       "    .dataframe tbody tr th:only-of-type {\n",
       "        vertical-align: middle;\n",
       "    }\n",
       "\n",
       "    .dataframe tbody tr th {\n",
       "        vertical-align: top;\n",
       "    }\n",
       "\n",
       "    .dataframe thead th {\n",
       "        text-align: right;\n",
       "    }\n",
       "</style>\n",
       "<table border=\"1\" class=\"dataframe\">\n",
       "  <thead>\n",
       "    <tr style=\"text-align: right;\">\n",
       "      <th></th>\n",
       "      <th>Unnamed: 0</th>\n",
       "      <th>CRIMETYPE</th>\n",
       "      <th>DATETIME</th>\n",
       "      <th>CASENUMBER</th>\n",
       "      <th>DESCRIPTION</th>\n",
       "      <th>POLICEBEAT</th>\n",
       "      <th>ADDRESS</th>\n",
       "      <th>CITY</th>\n",
       "      <th>STATE</th>\n",
       "      <th>Location</th>\n",
       "      <th>lat</th>\n",
       "      <th>lng</th>\n",
       "    </tr>\n",
       "  </thead>\n",
       "  <tbody>\n",
       "    <tr>\n",
       "      <th>0</th>\n",
       "      <td>0</td>\n",
       "      <td>ROBBERY</td>\n",
       "      <td>04/23/2020 01:27:00 AM</td>\n",
       "      <td>20-020530</td>\n",
       "      <td>ROBBERY-FIREARM</td>\n",
       "      <td>31Y</td>\n",
       "      <td>900 82ND AV</td>\n",
       "      <td>Oakland</td>\n",
       "      <td>CA</td>\n",
       "      <td>900 82ND AV\\nOakland, CA</td>\n",
       "      <td>37.752278</td>\n",
       "      <td>-122.185137</td>\n",
       "    </tr>\n",
       "    <tr>\n",
       "      <th>1</th>\n",
       "      <td>1</td>\n",
       "      <td>DOMESTIC VIOLENCE</td>\n",
       "      <td>04/03/2020 05:51:00 PM</td>\n",
       "      <td>20-017584</td>\n",
       "      <td>BATTERY:SPOUSE/EX SPOUSE/DATE/ETC</td>\n",
       "      <td>35X</td>\n",
       "      <td>9200 MACARTHUR BLVD</td>\n",
       "      <td>Oakland</td>\n",
       "      <td>CA</td>\n",
       "      <td>9200 MACARTHUR BLVD\\nOakland, CA\\n(37.754275, ...</td>\n",
       "      <td>37.754529</td>\n",
       "      <td>-122.160675</td>\n",
       "    </tr>\n",
       "    <tr>\n",
       "      <th>2</th>\n",
       "      <td>2</td>\n",
       "      <td>NaN</td>\n",
       "      <td>04/25/2020 10:30:00 PM</td>\n",
       "      <td>20-021213</td>\n",
       "      <td>EXHIBIT FIREARM</td>\n",
       "      <td>29X</td>\n",
       "      <td>5500 15TH ST</td>\n",
       "      <td>Oakland</td>\n",
       "      <td>CA</td>\n",
       "      <td>5500 15TH ST\\nOakland, CA</td>\n",
       "      <td>37.768235</td>\n",
       "      <td>-122.202083</td>\n",
       "    </tr>\n",
       "    <tr>\n",
       "      <th>3</th>\n",
       "      <td>3</td>\n",
       "      <td>OTHER</td>\n",
       "      <td>09/01/2019 12:00:00 AM</td>\n",
       "      <td>20-009365</td>\n",
       "      <td>STALKING-MISD</td>\n",
       "      <td>01X</td>\n",
       "      <td>00 EMBARCADERO WEST</td>\n",
       "      <td>Oakland</td>\n",
       "      <td>CA</td>\n",
       "      <td>00 EMBARCADERO WEST\\nOakland, CA</td>\n",
       "      <td>37.794812</td>\n",
       "      <td>-122.274958</td>\n",
       "    </tr>\n",
       "    <tr>\n",
       "      <th>4</th>\n",
       "      <td>4</td>\n",
       "      <td>NaN</td>\n",
       "      <td>05/03/2020 01:40:00 AM</td>\n",
       "      <td>20-022472</td>\n",
       "      <td>THEFT</td>\n",
       "      <td>21X</td>\n",
       "      <td>2300 FOOTHILL BLVD</td>\n",
       "      <td>Oakland</td>\n",
       "      <td>CA</td>\n",
       "      <td>2300 FOOTHILL BLVD\\nOakland, CA\\n(37.785082, -...</td>\n",
       "      <td>37.785240</td>\n",
       "      <td>-122.233769</td>\n",
       "    </tr>\n",
       "  </tbody>\n",
       "</table>\n",
       "</div>"
      ],
      "text/plain": [
       "   Unnamed: 0          CRIMETYPE                DATETIME CASENUMBER  \\\n",
       "0           0            ROBBERY  04/23/2020 01:27:00 AM  20-020530   \n",
       "1           1  DOMESTIC VIOLENCE  04/03/2020 05:51:00 PM  20-017584   \n",
       "2           2                NaN  04/25/2020 10:30:00 PM  20-021213   \n",
       "3           3              OTHER  09/01/2019 12:00:00 AM  20-009365   \n",
       "4           4                NaN  05/03/2020 01:40:00 AM  20-022472   \n",
       "\n",
       "                         DESCRIPTION POLICEBEAT              ADDRESS     CITY  \\\n",
       "0                    ROBBERY-FIREARM        31Y          900 82ND AV  Oakland   \n",
       "1  BATTERY:SPOUSE/EX SPOUSE/DATE/ETC        35X  9200 MACARTHUR BLVD  Oakland   \n",
       "2                    EXHIBIT FIREARM        29X         5500 15TH ST  Oakland   \n",
       "3                      STALKING-MISD        01X  00 EMBARCADERO WEST  Oakland   \n",
       "4                              THEFT        21X   2300 FOOTHILL BLVD  Oakland   \n",
       "\n",
       "  STATE                                           Location        lat  \\\n",
       "0    CA                           900 82ND AV\\nOakland, CA  37.752278   \n",
       "1    CA  9200 MACARTHUR BLVD\\nOakland, CA\\n(37.754275, ...  37.754529   \n",
       "2    CA                          5500 15TH ST\\nOakland, CA  37.768235   \n",
       "3    CA                   00 EMBARCADERO WEST\\nOakland, CA  37.794812   \n",
       "4    CA  2300 FOOTHILL BLVD\\nOakland, CA\\n(37.785082, -...  37.785240   \n",
       "\n",
       "          lng  \n",
       "0 -122.185137  \n",
       "1 -122.160675  \n",
       "2 -122.202083  \n",
       "3 -122.274958  \n",
       "4 -122.233769  "
      ]
     },
     "execution_count": 5,
     "metadata": {},
     "output_type": "execute_result"
    }
   ],
   "source": [
    "data.head()"
   ]
  },
  {
   "cell_type": "code",
   "execution_count": 21,
   "metadata": {},
   "outputs": [],
   "source": [
    "bad_data = (data[\"lat\"] > MAX_LATITUDE) | (data[\"lat\"] < MIN_LATITUDE) | (data[\"lng\"] > MAX_LONGITUDE) | (data[\"lng\"] < MIN_LONGITUDE)"
   ]
  },
  {
   "cell_type": "code",
   "execution_count": 22,
   "metadata": {},
   "outputs": [],
   "source": [
    "filtered = data[~bad_data]"
   ]
  },
  {
   "cell_type": "code",
   "execution_count": 23,
   "metadata": {},
   "outputs": [
    {
     "data": {
      "text/html": [
       "<div>\n",
       "<style scoped>\n",
       "    .dataframe tbody tr th:only-of-type {\n",
       "        vertical-align: middle;\n",
       "    }\n",
       "\n",
       "    .dataframe tbody tr th {\n",
       "        vertical-align: top;\n",
       "    }\n",
       "\n",
       "    .dataframe thead th {\n",
       "        text-align: right;\n",
       "    }\n",
       "</style>\n",
       "<table border=\"1\" class=\"dataframe\">\n",
       "  <thead>\n",
       "    <tr style=\"text-align: right;\">\n",
       "      <th></th>\n",
       "      <th>Unnamed: 0</th>\n",
       "      <th>lat</th>\n",
       "      <th>lng</th>\n",
       "    </tr>\n",
       "  </thead>\n",
       "  <tbody>\n",
       "    <tr>\n",
       "      <th>count</th>\n",
       "      <td>15836.000000</td>\n",
       "      <td>15836.000000</td>\n",
       "      <td>15836.000000</td>\n",
       "    </tr>\n",
       "    <tr>\n",
       "      <th>mean</th>\n",
       "      <td>7959.205165</td>\n",
       "      <td>37.790365</td>\n",
       "      <td>-122.227297</td>\n",
       "    </tr>\n",
       "    <tr>\n",
       "      <th>std</th>\n",
       "      <td>4591.798714</td>\n",
       "      <td>0.029382</td>\n",
       "      <td>0.042591</td>\n",
       "    </tr>\n",
       "    <tr>\n",
       "      <th>min</th>\n",
       "      <td>0.000000</td>\n",
       "      <td>37.514470</td>\n",
       "      <td>-122.425079</td>\n",
       "    </tr>\n",
       "    <tr>\n",
       "      <th>25%</th>\n",
       "      <td>3984.750000</td>\n",
       "      <td>37.768419</td>\n",
       "      <td>-122.263476</td>\n",
       "    </tr>\n",
       "    <tr>\n",
       "      <th>50%</th>\n",
       "      <td>7962.500000</td>\n",
       "      <td>37.793559</td>\n",
       "      <td>-122.230647</td>\n",
       "    </tr>\n",
       "    <tr>\n",
       "      <th>75%</th>\n",
       "      <td>11934.250000</td>\n",
       "      <td>37.810942</td>\n",
       "      <td>-122.194559</td>\n",
       "    </tr>\n",
       "    <tr>\n",
       "      <th>max</th>\n",
       "      <td>15911.000000</td>\n",
       "      <td>37.988856</td>\n",
       "      <td>-121.330024</td>\n",
       "    </tr>\n",
       "  </tbody>\n",
       "</table>\n",
       "</div>"
      ],
      "text/plain": [
       "         Unnamed: 0           lat           lng\n",
       "count  15836.000000  15836.000000  15836.000000\n",
       "mean    7959.205165     37.790365   -122.227297\n",
       "std     4591.798714      0.029382      0.042591\n",
       "min        0.000000     37.514470   -122.425079\n",
       "25%     3984.750000     37.768419   -122.263476\n",
       "50%     7962.500000     37.793559   -122.230647\n",
       "75%    11934.250000     37.810942   -122.194559\n",
       "max    15911.000000     37.988856   -121.330024"
      ]
     },
     "execution_count": 23,
     "metadata": {},
     "output_type": "execute_result"
    }
   ],
   "source": [
    "filtered.describe()"
   ]
  },
  {
   "cell_type": "code",
   "execution_count": 24,
   "metadata": {},
   "outputs": [],
   "source": [
    "filtered.to_csv(\"crime_oakland_last_90_filtered.csv\")"
   ]
  },
  {
   "cell_type": "code",
   "execution_count": 25,
   "metadata": {},
   "outputs": [
    {
     "name": "stdout",
     "output_type": "stream",
     "text": [
      "Filter SF crime data to last 90 days.ipynb\r\n",
      "crime_oakland_90d_reprojected.gpkg\r\n",
      "crime_oakland_90d_reprojected.gpkg-shm\r\n",
      "crime_oakland_90d_reprojected.gpkg-wal\r\n",
      "crime_oakland_last_90.csv\r\n",
      "crime_oakland_last_90_filtered.csv\r\n",
      "crime_oakland_last_90_raw.csv\r\n",
      "crime_sf_last_1.csv\r\n",
      "crime_sf_last_90.csv\r\n",
      "filter_to_lat_lng_box.ipynb\r\n",
      "geocoder.ipynb\r\n",
      "\u001b[34mqgis_layers\u001b[m\u001b[m\r\n"
     ]
    }
   ],
   "source": [
    "!ls"
   ]
  },
  {
   "cell_type": "code",
   "execution_count": null,
   "metadata": {},
   "outputs": [],
   "source": []
  }
 ],
 "metadata": {
  "kernelspec": {
   "display_name": "Python 3",
   "language": "python",
   "name": "python3"
  },
  "language_info": {
   "codemirror_mode": {
    "name": "ipython",
    "version": 3
   },
   "file_extension": ".py",
   "mimetype": "text/x-python",
   "name": "python",
   "nbconvert_exporter": "python",
   "pygments_lexer": "ipython3",
   "version": "3.6.4"
  }
 },
 "nbformat": 4,
 "nbformat_minor": 4
}
