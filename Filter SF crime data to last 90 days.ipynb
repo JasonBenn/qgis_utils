{
 "cells": [
  {
   "cell_type": "code",
   "execution_count": 1,
   "metadata": {},
   "outputs": [
    {
     "name": "stdout",
     "output_type": "stream",
     "text": [
      "SF_Crime_Heat_Map.csv  \u001b[34ms2v_old\u001b[m\u001b[m\r\n",
      "arXiv_pdf_9912_002.tar \u001b[34ms2v_reddit_2019_lg\u001b[m\u001b[m\r\n"
     ]
    }
   ],
   "source": [
    "!ls ~/data/SF_Crime_Heat_Map.csv"
   ]
  },
  {
   "cell_type": "code",
   "execution_count": 17,
   "metadata": {},
   "outputs": [],
   "source": [
    "import pandas\n",
    "from datetime import datetime, timedelta"
   ]
  },
  {
   "cell_type": "code",
   "execution_count": 4,
   "metadata": {},
   "outputs": [],
   "source": [
    "data = pandas.read_csv(\"~/data/SF_Crime_Heat_Map.csv\")"
   ]
  },
  {
   "cell_type": "code",
   "execution_count": 31,
   "metadata": {},
   "outputs": [
    {
     "data": {
      "text/plain": [
       "IncidntNum                                   160469758\n",
       "Category                                OTHER OFFENSES\n",
       "Descript         DRIVERS LICENSE, SUSPENDED OR REVOKED\n",
       "DayOfWeek                                     Thursday\n",
       "Date                                        06/09/2016\n",
       "Time                                             13:40\n",
       "PdDistrict                                   INGLESIDE\n",
       "Resolution                              ARREST, BOOKED\n",
       "Address                        MISSION ST / COLLEGE AV\n",
       "X                                             -122.425\n",
       "Y                                              37.7354\n",
       "Location       (37.73536990908727, -122.4247020793315)\n",
       "parsed_date                        2016-06-09 00:00:00\n",
       "Name: 2215023, dtype: object"
      ]
     },
     "execution_count": 31,
     "metadata": {},
     "output_type": "execute_result"
    }
   ],
   "source": [
    "data.iloc[-1]"
   ]
  },
  {
   "cell_type": "code",
   "execution_count": 12,
   "metadata": {},
   "outputs": [],
   "source": [
    "data['parsed_date'] = pandas.to_datetime(data['Date'])"
   ]
  },
  {
   "cell_type": "code",
   "execution_count": 23,
   "metadata": {},
   "outputs": [
    {
     "data": {
      "text/plain": [
       "Timestamp('2018-05-15 00:00:00')"
      ]
     },
     "execution_count": 23,
     "metadata": {},
     "output_type": "execute_result"
    }
   ],
   "source": [
    "data['parsed_date'].max()"
   ]
  },
  {
   "cell_type": "code",
   "execution_count": 25,
   "metadata": {},
   "outputs": [],
   "source": [
    "most_recent_90_days = data.loc[data['parsed_date'] > data['parsed_date'].max() - timedelta(days=90), ['Category', 'X', 'Y']]"
   ]
  },
  {
   "cell_type": "code",
   "execution_count": 27,
   "metadata": {},
   "outputs": [],
   "source": [
    "most_recent_90_days.to_csv(\"sf_crime_recent_90.csv\")"
   ]
  },
  {
   "cell_type": "code",
   "execution_count": 28,
   "metadata": {},
   "outputs": [],
   "source": [
    "most_recent_90_days.iloc[:100].to_csv(\"sf_crime_recent_90_head.csv\")"
   ]
  },
  {
   "cell_type": "code",
   "execution_count": null,
   "metadata": {},
   "outputs": [],
   "source": []
  }
 ],
 "metadata": {
  "kernelspec": {
   "display_name": "Python 3",
   "language": "python",
   "name": "python3"
  },
  "language_info": {
   "codemirror_mode": {
    "name": "ipython",
    "version": 3
   },
   "file_extension": ".py",
   "mimetype": "text/x-python",
   "name": "python",
   "nbconvert_exporter": "python",
   "pygments_lexer": "ipython3",
   "version": "3.7.4"
  }
 },
 "nbformat": 4,
 "nbformat_minor": 4
}
